{
  "nbformat": 4,
  "nbformat_minor": 0,
  "metadata": {
    "colab": {
      "provenance": [],
      "gpuType": "T4",
      "include_colab_link": true
    },
    "kernelspec": {
      "name": "python3",
      "display_name": "Python 3"
    },
    "language_info": {
      "name": "python"
    },
    "accelerator": "GPU",
    "gpuClass": "standard"
  },
  "cells": [
    {
      "cell_type": "markdown",
      "metadata": {
        "id": "view-in-github",
        "colab_type": "text"
      },
      "source": [
        "<a href=\"https://colab.research.google.com/github/maryamyazdi/transc/blob/text-classification/classification.ipynb\" target=\"_parent\"><img src=\"https://colab.research.google.com/assets/colab-badge.svg\" alt=\"Open In Colab\"/></a>"
      ]
    },
    {
      "cell_type": "code",
      "execution_count": 30,
      "metadata": {
        "id": "lbEAm8pxIb8c"
      },
      "outputs": [],
      "source": [
        "!pip install -q transformers"
      ]
    },
    {
      "cell_type": "code",
      "source": [
        "import numpy as np\n",
        "import pandas as pd\n",
        "from sklearn import metrics\n",
        "import nltk\n",
        "import re\n",
        "import transformers\n",
        "import torch\n",
        "from torch.utils.data import Dataset, DataLoader, RandomSampler, SequentialSampler\n",
        "from transformers import BertTokenizer, BertModel, BertConfig"
      ],
      "metadata": {
        "id": "IK-VGhwUJpgr"
      },
      "execution_count": 49,
      "outputs": []
    },
    {
      "cell_type": "code",
      "source": [
        "# Setting up GPU usage (if available)\n",
        "\n",
        "device = torch.device(\"cuda\" if torch.cuda.is_available() else \"cpu\")"
      ],
      "metadata": {
        "id": "hPB79GKwJzlo"
      },
      "execution_count": 69,
      "outputs": []
    },
    {
      "cell_type": "code",
      "source": [
        "init_df = pd.read_csv('stories.csv')\n",
        "init_df"
      ],
      "metadata": {
        "colab": {
          "base_uri": "https://localhost:8080/",
          "height": 424
        },
        "id": "qx_MCHaSKoRR",
        "outputId": "60353986-553d-4776-9d0e-cf686df97969"
      },
      "execution_count": 70,
      "outputs": [
        {
          "output_type": "execute_result",
          "data": {
            "text/plain": [
              "                                                   body  \\\n",
              "0                                                         \n",
              "1                                                         \n",
              "2                                                         \n",
              "3                                                         \n",
              "4     hello and welcome to BBC News a woman who gave...   \n",
              "...                                                 ...   \n",
              "5176  News. More local help will soon be on the way....   \n",
              "5177  with March 1, we start what is called Meteorol...   \n",
              "5178  overseas. A massive Russian convoy is headed t...   \n",
              "5179  And this morning, the National Hockey League s...   \n",
              "5180  thank you very much. Also this morning, the Un...   \n",
              "\n",
              "                                                  topic  \n",
              "0              ['39822b5f-e37e-43e8-b997-7142fe55c3ea']  \n",
              "1              ['0d817400-3f5d-41e0-929c-c31fdbe75d31']  \n",
              "2              ['83a09c6b-5f2f-421f-ae50-b38acca7e008']  \n",
              "3              ['6fbf954a-03f9-4782-a65f-783271c9c447']  \n",
              "4     ['83a09c6b-5f2f-421f-ae50-b38acca7e008', '9ff5...  \n",
              "...                                                 ...  \n",
              "5176  ['9ff54ded-904b-4e0c-85ce-a3617f5cb913', '9632...  \n",
              "5177           ['9a06646a-e1df-4fca-888e-69658420556b']  \n",
              "5178           ['9ff54ded-904b-4e0c-85ce-a3617f5cb913']  \n",
              "5179  ['9ff54ded-904b-4e0c-85ce-a3617f5cb913', 'b492...  \n",
              "5180  ['83a09c6b-5f2f-421f-ae50-b38acca7e008', '9ff5...  \n",
              "\n",
              "[5181 rows x 2 columns]"
            ],
            "text/html": [
              "\n",
              "  <div id=\"df-1bb3e031-87ff-49a6-ad20-92045e2bbadf\">\n",
              "    <div class=\"colab-df-container\">\n",
              "      <div>\n",
              "<style scoped>\n",
              "    .dataframe tbody tr th:only-of-type {\n",
              "        vertical-align: middle;\n",
              "    }\n",
              "\n",
              "    .dataframe tbody tr th {\n",
              "        vertical-align: top;\n",
              "    }\n",
              "\n",
              "    .dataframe thead th {\n",
              "        text-align: right;\n",
              "    }\n",
              "</style>\n",
              "<table border=\"1\" class=\"dataframe\">\n",
              "  <thead>\n",
              "    <tr style=\"text-align: right;\">\n",
              "      <th></th>\n",
              "      <th>body</th>\n",
              "      <th>topic</th>\n",
              "    </tr>\n",
              "  </thead>\n",
              "  <tbody>\n",
              "    <tr>\n",
              "      <th>0</th>\n",
              "      <td></td>\n",
              "      <td>['39822b5f-e37e-43e8-b997-7142fe55c3ea']</td>\n",
              "    </tr>\n",
              "    <tr>\n",
              "      <th>1</th>\n",
              "      <td></td>\n",
              "      <td>['0d817400-3f5d-41e0-929c-c31fdbe75d31']</td>\n",
              "    </tr>\n",
              "    <tr>\n",
              "      <th>2</th>\n",
              "      <td></td>\n",
              "      <td>['83a09c6b-5f2f-421f-ae50-b38acca7e008']</td>\n",
              "    </tr>\n",
              "    <tr>\n",
              "      <th>3</th>\n",
              "      <td></td>\n",
              "      <td>['6fbf954a-03f9-4782-a65f-783271c9c447']</td>\n",
              "    </tr>\n",
              "    <tr>\n",
              "      <th>4</th>\n",
              "      <td>hello and welcome to BBC News a woman who gave...</td>\n",
              "      <td>['83a09c6b-5f2f-421f-ae50-b38acca7e008', '9ff5...</td>\n",
              "    </tr>\n",
              "    <tr>\n",
              "      <th>...</th>\n",
              "      <td>...</td>\n",
              "      <td>...</td>\n",
              "    </tr>\n",
              "    <tr>\n",
              "      <th>5176</th>\n",
              "      <td>News. More local help will soon be on the way....</td>\n",
              "      <td>['9ff54ded-904b-4e0c-85ce-a3617f5cb913', '9632...</td>\n",
              "    </tr>\n",
              "    <tr>\n",
              "      <th>5177</th>\n",
              "      <td>with March 1, we start what is called Meteorol...</td>\n",
              "      <td>['9a06646a-e1df-4fca-888e-69658420556b']</td>\n",
              "    </tr>\n",
              "    <tr>\n",
              "      <th>5178</th>\n",
              "      <td>overseas. A massive Russian convoy is headed t...</td>\n",
              "      <td>['9ff54ded-904b-4e0c-85ce-a3617f5cb913']</td>\n",
              "    </tr>\n",
              "    <tr>\n",
              "      <th>5179</th>\n",
              "      <td>And this morning, the National Hockey League s...</td>\n",
              "      <td>['9ff54ded-904b-4e0c-85ce-a3617f5cb913', 'b492...</td>\n",
              "    </tr>\n",
              "    <tr>\n",
              "      <th>5180</th>\n",
              "      <td>thank you very much. Also this morning, the Un...</td>\n",
              "      <td>['83a09c6b-5f2f-421f-ae50-b38acca7e008', '9ff5...</td>\n",
              "    </tr>\n",
              "  </tbody>\n",
              "</table>\n",
              "<p>5181 rows × 2 columns</p>\n",
              "</div>\n",
              "      <button class=\"colab-df-convert\" onclick=\"convertToInteractive('df-1bb3e031-87ff-49a6-ad20-92045e2bbadf')\"\n",
              "              title=\"Convert this dataframe to an interactive table.\"\n",
              "              style=\"display:none;\">\n",
              "        \n",
              "  <svg xmlns=\"http://www.w3.org/2000/svg\" height=\"24px\"viewBox=\"0 0 24 24\"\n",
              "       width=\"24px\">\n",
              "    <path d=\"M0 0h24v24H0V0z\" fill=\"none\"/>\n",
              "    <path d=\"M18.56 5.44l.94 2.06.94-2.06 2.06-.94-2.06-.94-.94-2.06-.94 2.06-2.06.94zm-11 1L8.5 8.5l.94-2.06 2.06-.94-2.06-.94L8.5 2.5l-.94 2.06-2.06.94zm10 10l.94 2.06.94-2.06 2.06-.94-2.06-.94-.94-2.06-.94 2.06-2.06.94z\"/><path d=\"M17.41 7.96l-1.37-1.37c-.4-.4-.92-.59-1.43-.59-.52 0-1.04.2-1.43.59L10.3 9.45l-7.72 7.72c-.78.78-.78 2.05 0 2.83L4 21.41c.39.39.9.59 1.41.59.51 0 1.02-.2 1.41-.59l7.78-7.78 2.81-2.81c.8-.78.8-2.07 0-2.86zM5.41 20L4 18.59l7.72-7.72 1.47 1.35L5.41 20z\"/>\n",
              "  </svg>\n",
              "      </button>\n",
              "      \n",
              "  <style>\n",
              "    .colab-df-container {\n",
              "      display:flex;\n",
              "      flex-wrap:wrap;\n",
              "      gap: 12px;\n",
              "    }\n",
              "\n",
              "    .colab-df-convert {\n",
              "      background-color: #E8F0FE;\n",
              "      border: none;\n",
              "      border-radius: 50%;\n",
              "      cursor: pointer;\n",
              "      display: none;\n",
              "      fill: #1967D2;\n",
              "      height: 32px;\n",
              "      padding: 0 0 0 0;\n",
              "      width: 32px;\n",
              "    }\n",
              "\n",
              "    .colab-df-convert:hover {\n",
              "      background-color: #E2EBFA;\n",
              "      box-shadow: 0px 1px 2px rgba(60, 64, 67, 0.3), 0px 1px 3px 1px rgba(60, 64, 67, 0.15);\n",
              "      fill: #174EA6;\n",
              "    }\n",
              "\n",
              "    [theme=dark] .colab-df-convert {\n",
              "      background-color: #3B4455;\n",
              "      fill: #D2E3FC;\n",
              "    }\n",
              "\n",
              "    [theme=dark] .colab-df-convert:hover {\n",
              "      background-color: #434B5C;\n",
              "      box-shadow: 0px 1px 3px 1px rgba(0, 0, 0, 0.15);\n",
              "      filter: drop-shadow(0px 1px 2px rgba(0, 0, 0, 0.3));\n",
              "      fill: #FFFFFF;\n",
              "    }\n",
              "  </style>\n",
              "\n",
              "      <script>\n",
              "        const buttonEl =\n",
              "          document.querySelector('#df-1bb3e031-87ff-49a6-ad20-92045e2bbadf button.colab-df-convert');\n",
              "        buttonEl.style.display =\n",
              "          google.colab.kernel.accessAllowed ? 'block' : 'none';\n",
              "\n",
              "        async function convertToInteractive(key) {\n",
              "          const element = document.querySelector('#df-1bb3e031-87ff-49a6-ad20-92045e2bbadf');\n",
              "          const dataTable =\n",
              "            await google.colab.kernel.invokeFunction('convertToInteractive',\n",
              "                                                     [key], {});\n",
              "          if (!dataTable) return;\n",
              "\n",
              "          const docLinkHtml = 'Like what you see? Visit the ' +\n",
              "            '<a target=\"_blank\" href=https://colab.research.google.com/notebooks/data_table.ipynb>data table notebook</a>'\n",
              "            + ' to learn more about interactive tables.';\n",
              "          element.innerHTML = '';\n",
              "          dataTable['output_type'] = 'display_data';\n",
              "          await google.colab.output.renderOutput(dataTable, element);\n",
              "          const docLink = document.createElement('div');\n",
              "          docLink.innerHTML = docLinkHtml;\n",
              "          element.appendChild(docLink);\n",
              "        }\n",
              "      </script>\n",
              "    </div>\n",
              "  </div>\n",
              "  "
            ]
          },
          "metadata": {},
          "execution_count": 70
        }
      ]
    },
    {
      "cell_type": "code",
      "source": [
        "# Pre-processing the domain data (initial dataset)\n",
        "\n",
        "nltk.download('stopwords')\n",
        "from nltk.corpus import stopwords\n",
        "\n",
        "df = init_df.copy()\n",
        "\n",
        "# Remove empty body rows\n",
        "df = df[df['body'].str.strip().astype(bool)]\n",
        "df.reset_index(drop = True, inplace = True)\n",
        "\n",
        "# Removing stop words\n",
        "stop = stopwords.words('english')\n",
        "df['body'] = df['body'].apply(lambda x: ' '.join([word for word in x.lower().split() if word not in (stop)]))\n",
        "\n",
        "# Reformat 'topic' column to binary vectors\n",
        "unique_topics = {}\n",
        "a = set()\n",
        "for index in df.index:\n",
        "  df['topic'][index] = re.findall(\"[a-zA-Z0-9-]+\",df['topic'][index])\n",
        "  for id in df['topic'][index]:\n",
        "    a.add(id)\n",
        "\n",
        "unique_topics = {topic: index for (index,topic) in enumerate(a)}\n",
        "count = {x:0 for x in unique_topics.keys()}\n",
        "\n",
        "for index in df.index:\n",
        "  e = [0] * len(unique_topics)\n",
        "  for id in df.topic[index]:\n",
        "    e[unique_topics[id]]=1\n",
        "    count[id] +=1 \n",
        "  df['topic'][index] = e   \n",
        "\n",
        "df"
      ],
      "metadata": {
        "colab": {
          "base_uri": "https://localhost:8080/",
          "height": 458
        },
        "id": "_SSfGhudK167",
        "outputId": "f2690394-c13e-44ff-b46a-8c8085d44145"
      },
      "execution_count": 71,
      "outputs": [
        {
          "output_type": "stream",
          "name": "stderr",
          "text": [
            "[nltk_data] Downloading package stopwords to /root/nltk_data...\n",
            "[nltk_data]   Package stopwords is already up-to-date!\n"
          ]
        },
        {
          "output_type": "execute_result",
          "data": {
            "text/plain": [
              "                                                   body  \\\n",
              "0     hello welcome bbc news woman gave key evidence...   \n",
              "1     news north hollywood. 14 yearold girl found de...   \n",
              "2     homelessness city's greatest failure. message ...   \n",
              "3     minneapolis police officer kim potter guilty d...   \n",
              "4     judy update wildfires wiped entire neighborhoo...   \n",
              "...                                                 ...   \n",
              "5147  news. local help soon way. group volunteers yo...   \n",
              "5148  march 1, start called meteorological spring. k...   \n",
              "5149  overseas. massive russian convoy headed toward...   \n",
              "5150  morning, national hockey league says suspendin...   \n",
              "5151  thank much. also morning, united states asking...   \n",
              "\n",
              "                                              topic  \n",
              "0     [0, 0, 0, 0, 0, 1, 0, 0, 1, 0, 0, 0, 0, 0, 0]  \n",
              "1     [0, 0, 0, 0, 0, 1, 0, 0, 0, 0, 0, 0, 0, 0, 0]  \n",
              "2     [0, 0, 0, 1, 0, 0, 0, 0, 1, 1, 0, 0, 0, 0, 0]  \n",
              "3     [0, 0, 0, 0, 0, 1, 0, 0, 1, 0, 0, 0, 0, 0, 0]  \n",
              "4     [0, 0, 0, 0, 0, 1, 0, 1, 0, 0, 0, 0, 0, 0, 0]  \n",
              "...                                             ...  \n",
              "5147  [0, 0, 0, 0, 0, 1, 0, 0, 0, 1, 0, 0, 0, 1, 0]  \n",
              "5148  [0, 0, 0, 0, 0, 0, 0, 1, 0, 0, 0, 0, 0, 0, 0]  \n",
              "5149  [0, 0, 0, 0, 0, 1, 0, 0, 0, 0, 0, 0, 0, 0, 0]  \n",
              "5150  [0, 0, 0, 0, 0, 1, 0, 0, 0, 0, 1, 0, 0, 0, 0]  \n",
              "5151  [0, 0, 0, 0, 0, 1, 0, 0, 1, 0, 0, 0, 0, 0, 0]  \n",
              "\n",
              "[5152 rows x 2 columns]"
            ],
            "text/html": [
              "\n",
              "  <div id=\"df-26a21797-8ea0-46cc-b950-f3d1e44b8d6b\">\n",
              "    <div class=\"colab-df-container\">\n",
              "      <div>\n",
              "<style scoped>\n",
              "    .dataframe tbody tr th:only-of-type {\n",
              "        vertical-align: middle;\n",
              "    }\n",
              "\n",
              "    .dataframe tbody tr th {\n",
              "        vertical-align: top;\n",
              "    }\n",
              "\n",
              "    .dataframe thead th {\n",
              "        text-align: right;\n",
              "    }\n",
              "</style>\n",
              "<table border=\"1\" class=\"dataframe\">\n",
              "  <thead>\n",
              "    <tr style=\"text-align: right;\">\n",
              "      <th></th>\n",
              "      <th>body</th>\n",
              "      <th>topic</th>\n",
              "    </tr>\n",
              "  </thead>\n",
              "  <tbody>\n",
              "    <tr>\n",
              "      <th>0</th>\n",
              "      <td>hello welcome bbc news woman gave key evidence...</td>\n",
              "      <td>[0, 0, 0, 0, 0, 1, 0, 0, 1, 0, 0, 0, 0, 0, 0]</td>\n",
              "    </tr>\n",
              "    <tr>\n",
              "      <th>1</th>\n",
              "      <td>news north hollywood. 14 yearold girl found de...</td>\n",
              "      <td>[0, 0, 0, 0, 0, 1, 0, 0, 0, 0, 0, 0, 0, 0, 0]</td>\n",
              "    </tr>\n",
              "    <tr>\n",
              "      <th>2</th>\n",
              "      <td>homelessness city's greatest failure. message ...</td>\n",
              "      <td>[0, 0, 0, 1, 0, 0, 0, 0, 1, 1, 0, 0, 0, 0, 0]</td>\n",
              "    </tr>\n",
              "    <tr>\n",
              "      <th>3</th>\n",
              "      <td>minneapolis police officer kim potter guilty d...</td>\n",
              "      <td>[0, 0, 0, 0, 0, 1, 0, 0, 1, 0, 0, 0, 0, 0, 0]</td>\n",
              "    </tr>\n",
              "    <tr>\n",
              "      <th>4</th>\n",
              "      <td>judy update wildfires wiped entire neighborhoo...</td>\n",
              "      <td>[0, 0, 0, 0, 0, 1, 0, 1, 0, 0, 0, 0, 0, 0, 0]</td>\n",
              "    </tr>\n",
              "    <tr>\n",
              "      <th>...</th>\n",
              "      <td>...</td>\n",
              "      <td>...</td>\n",
              "    </tr>\n",
              "    <tr>\n",
              "      <th>5147</th>\n",
              "      <td>news. local help soon way. group volunteers yo...</td>\n",
              "      <td>[0, 0, 0, 0, 0, 1, 0, 0, 0, 1, 0, 0, 0, 1, 0]</td>\n",
              "    </tr>\n",
              "    <tr>\n",
              "      <th>5148</th>\n",
              "      <td>march 1, start called meteorological spring. k...</td>\n",
              "      <td>[0, 0, 0, 0, 0, 0, 0, 1, 0, 0, 0, 0, 0, 0, 0]</td>\n",
              "    </tr>\n",
              "    <tr>\n",
              "      <th>5149</th>\n",
              "      <td>overseas. massive russian convoy headed toward...</td>\n",
              "      <td>[0, 0, 0, 0, 0, 1, 0, 0, 0, 0, 0, 0, 0, 0, 0]</td>\n",
              "    </tr>\n",
              "    <tr>\n",
              "      <th>5150</th>\n",
              "      <td>morning, national hockey league says suspendin...</td>\n",
              "      <td>[0, 0, 0, 0, 0, 1, 0, 0, 0, 0, 1, 0, 0, 0, 0]</td>\n",
              "    </tr>\n",
              "    <tr>\n",
              "      <th>5151</th>\n",
              "      <td>thank much. also morning, united states asking...</td>\n",
              "      <td>[0, 0, 0, 0, 0, 1, 0, 0, 1, 0, 0, 0, 0, 0, 0]</td>\n",
              "    </tr>\n",
              "  </tbody>\n",
              "</table>\n",
              "<p>5152 rows × 2 columns</p>\n",
              "</div>\n",
              "      <button class=\"colab-df-convert\" onclick=\"convertToInteractive('df-26a21797-8ea0-46cc-b950-f3d1e44b8d6b')\"\n",
              "              title=\"Convert this dataframe to an interactive table.\"\n",
              "              style=\"display:none;\">\n",
              "        \n",
              "  <svg xmlns=\"http://www.w3.org/2000/svg\" height=\"24px\"viewBox=\"0 0 24 24\"\n",
              "       width=\"24px\">\n",
              "    <path d=\"M0 0h24v24H0V0z\" fill=\"none\"/>\n",
              "    <path d=\"M18.56 5.44l.94 2.06.94-2.06 2.06-.94-2.06-.94-.94-2.06-.94 2.06-2.06.94zm-11 1L8.5 8.5l.94-2.06 2.06-.94-2.06-.94L8.5 2.5l-.94 2.06-2.06.94zm10 10l.94 2.06.94-2.06 2.06-.94-2.06-.94-.94-2.06-.94 2.06-2.06.94z\"/><path d=\"M17.41 7.96l-1.37-1.37c-.4-.4-.92-.59-1.43-.59-.52 0-1.04.2-1.43.59L10.3 9.45l-7.72 7.72c-.78.78-.78 2.05 0 2.83L4 21.41c.39.39.9.59 1.41.59.51 0 1.02-.2 1.41-.59l7.78-7.78 2.81-2.81c.8-.78.8-2.07 0-2.86zM5.41 20L4 18.59l7.72-7.72 1.47 1.35L5.41 20z\"/>\n",
              "  </svg>\n",
              "      </button>\n",
              "      \n",
              "  <style>\n",
              "    .colab-df-container {\n",
              "      display:flex;\n",
              "      flex-wrap:wrap;\n",
              "      gap: 12px;\n",
              "    }\n",
              "\n",
              "    .colab-df-convert {\n",
              "      background-color: #E8F0FE;\n",
              "      border: none;\n",
              "      border-radius: 50%;\n",
              "      cursor: pointer;\n",
              "      display: none;\n",
              "      fill: #1967D2;\n",
              "      height: 32px;\n",
              "      padding: 0 0 0 0;\n",
              "      width: 32px;\n",
              "    }\n",
              "\n",
              "    .colab-df-convert:hover {\n",
              "      background-color: #E2EBFA;\n",
              "      box-shadow: 0px 1px 2px rgba(60, 64, 67, 0.3), 0px 1px 3px 1px rgba(60, 64, 67, 0.15);\n",
              "      fill: #174EA6;\n",
              "    }\n",
              "\n",
              "    [theme=dark] .colab-df-convert {\n",
              "      background-color: #3B4455;\n",
              "      fill: #D2E3FC;\n",
              "    }\n",
              "\n",
              "    [theme=dark] .colab-df-convert:hover {\n",
              "      background-color: #434B5C;\n",
              "      box-shadow: 0px 1px 3px 1px rgba(0, 0, 0, 0.15);\n",
              "      filter: drop-shadow(0px 1px 2px rgba(0, 0, 0, 0.3));\n",
              "      fill: #FFFFFF;\n",
              "    }\n",
              "  </style>\n",
              "\n",
              "      <script>\n",
              "        const buttonEl =\n",
              "          document.querySelector('#df-26a21797-8ea0-46cc-b950-f3d1e44b8d6b button.colab-df-convert');\n",
              "        buttonEl.style.display =\n",
              "          google.colab.kernel.accessAllowed ? 'block' : 'none';\n",
              "\n",
              "        async function convertToInteractive(key) {\n",
              "          const element = document.querySelector('#df-26a21797-8ea0-46cc-b950-f3d1e44b8d6b');\n",
              "          const dataTable =\n",
              "            await google.colab.kernel.invokeFunction('convertToInteractive',\n",
              "                                                     [key], {});\n",
              "          if (!dataTable) return;\n",
              "\n",
              "          const docLinkHtml = 'Like what you see? Visit the ' +\n",
              "            '<a target=\"_blank\" href=https://colab.research.google.com/notebooks/data_table.ipynb>data table notebook</a>'\n",
              "            + ' to learn more about interactive tables.';\n",
              "          element.innerHTML = '';\n",
              "          dataTable['output_type'] = 'display_data';\n",
              "          await google.colab.output.renderOutput(dataTable, element);\n",
              "          const docLink = document.createElement('div');\n",
              "          docLink.innerHTML = docLinkHtml;\n",
              "          element.appendChild(docLink);\n",
              "        }\n",
              "      </script>\n",
              "    </div>\n",
              "  </div>\n",
              "  "
            ]
          },
          "metadata": {},
          "execution_count": 71
        }
      ]
    },
    {
      "cell_type": "code",
      "source": [
        "unique_topics"
      ],
      "metadata": {
        "id": "20LzRcEEu2Bb",
        "outputId": "24406de6-ed04-4e0b-a0e8-4fb1c03cb3a9",
        "colab": {
          "base_uri": "https://localhost:8080/"
        }
      },
      "execution_count": 72,
      "outputs": [
        {
          "output_type": "execute_result",
          "data": {
            "text/plain": [
              "{'39822b5f-e37e-43e8-b997-7142fe55c3ea': 0,\n",
              " '0d817400-3f5d-41e0-929c-c31fdbe75d31': 1,\n",
              " 'aa1edc37-1a01-414a-bcf7-8517e7c7053d': 2,\n",
              " '6fbf954a-03f9-4782-a65f-783271c9c447': 3,\n",
              " 'e7cbe38d-c987-4113-aa94-fd77eda451d5': 4,\n",
              " '9ff54ded-904b-4e0c-85ce-a3617f5cb913': 5,\n",
              " 'ca197b81-ca86-4792-8c25-2ba7cd4195b5': 6,\n",
              " '9a06646a-e1df-4fca-888e-69658420556b': 7,\n",
              " '83a09c6b-5f2f-421f-ae50-b38acca7e008': 8,\n",
              " '74e2fab8-689f-4e17-9a1c-e1f92e084f55': 9,\n",
              " 'b49207eb-96eb-4b73-b534-adc0ef85022a': 10,\n",
              " 'a58b4b70-1b59-4240-917d-a2165a0ce2f0': 11,\n",
              " 'f5cdd7f2-9d4d-4ba5-9925-00c1701e30fa': 12,\n",
              " '96326734-fd82-4350-b45c-513e7eb9147c': 13,\n",
              " 'ebf2991e-4b7d-44c6-927b-a261a7b21d2c': 14}"
            ]
          },
          "metadata": {},
          "execution_count": 72
        }
      ]
    },
    {
      "cell_type": "code",
      "source": [
        "count"
      ],
      "metadata": {
        "id": "7Ez2aVrQSiY5",
        "outputId": "bfd63f17-ee5e-4aab-fef1-5b59b3a694e9",
        "colab": {
          "base_uri": "https://localhost:8080/"
        }
      },
      "execution_count": 73,
      "outputs": [
        {
          "output_type": "execute_result",
          "data": {
            "text/plain": [
              "{'39822b5f-e37e-43e8-b997-7142fe55c3ea': 391,\n",
              " '0d817400-3f5d-41e0-929c-c31fdbe75d31': 183,\n",
              " 'aa1edc37-1a01-414a-bcf7-8517e7c7053d': 163,\n",
              " '6fbf954a-03f9-4782-a65f-783271c9c447': 559,\n",
              " 'e7cbe38d-c987-4113-aa94-fd77eda451d5': 22,\n",
              " '9ff54ded-904b-4e0c-85ce-a3617f5cb913': 1825,\n",
              " 'ca197b81-ca86-4792-8c25-2ba7cd4195b5': 250,\n",
              " '9a06646a-e1df-4fca-888e-69658420556b': 409,\n",
              " '83a09c6b-5f2f-421f-ae50-b38acca7e008': 1793,\n",
              " '74e2fab8-689f-4e17-9a1c-e1f92e084f55': 253,\n",
              " 'b49207eb-96eb-4b73-b534-adc0ef85022a': 388,\n",
              " 'a58b4b70-1b59-4240-917d-a2165a0ce2f0': 53,\n",
              " 'f5cdd7f2-9d4d-4ba5-9925-00c1701e30fa': 92,\n",
              " '96326734-fd82-4350-b45c-513e7eb9147c': 1076,\n",
              " 'ebf2991e-4b7d-44c6-927b-a261a7b21d2c': 278}"
            ]
          },
          "metadata": {},
          "execution_count": 73
        }
      ]
    },
    {
      "cell_type": "code",
      "source": [
        "# pd.DataFrame(count.items(), columns=['topic', 'frequency']);"
      ],
      "metadata": {
        "id": "--gVe4DJSdFL"
      },
      "execution_count": 74,
      "outputs": []
    },
    {
      "cell_type": "code",
      "source": [
        "# Defining some key variables for training stage\n",
        "\n",
        "MAX_LEN = 256\n",
        "TRAIN_BATCH_SIZE = 16\n",
        "VALID_BATCH_SIZE = 16\n",
        "EPOCHS = 3\n",
        "LEARNING_RATE = 1e-05\n",
        "tokenizer = BertTokenizer.from_pretrained('bert-base-uncased')"
      ],
      "metadata": {
        "id": "DWqlmwFuP-0m"
      },
      "execution_count": 75,
      "outputs": []
    },
    {
      "cell_type": "code",
      "source": [
        "class CustomDataset(Dataset):\n",
        "\n",
        "    def __init__(self, dataframe, tokenizer, max_len):\n",
        "        self.tokenizer = tokenizer\n",
        "        self.data = dataframe\n",
        "        self.body = dataframe.body\n",
        "        self.targets = self.data.topic\n",
        "        self.max_len = max_len\n",
        "\n",
        "    def __len__(self):\n",
        "        return len(self.body)\n",
        "\n",
        "    def __getitem__(self, index):\n",
        "        body = str(self.body[index])\n",
        "        body = \" \".join(body.split())\n",
        "\n",
        "        inputs = self.tokenizer.encode_plus(\n",
        "            body,\n",
        "            None,\n",
        "            add_special_tokens=True,\n",
        "            max_length=self.max_len,\n",
        "            pad_to_max_length=True,\n",
        "            return_token_type_ids=True,\n",
        "            truncation=True,\n",
        "            return_attention_mask=True,\n",
        "            return_tensors='pt'\n",
        "        )\n",
        "\n",
        "        return {\n",
        "            # construct a tensor, then remove dimensions of size 1 with squeeze\n",
        "            'ids': torch.squeeze(inputs['input_ids'].clone().detach()),\n",
        "            'mask': torch.squeeze(inputs['attention_mask'].clone().detach()),\n",
        "            'token_type_ids': torch.squeeze(inputs['token_type_ids'].clone().detach()),\n",
        "            'targets': torch.squeeze(torch.tensor(self.targets[index], dtype=torch.float))\n",
        "        }"
      ],
      "metadata": {
        "id": "Um5TEjK9Qhsk"
      },
      "execution_count": 76,
      "outputs": []
    },
    {
      "cell_type": "code",
      "source": [
        "train_size = 0.8\n",
        "train_df = df.sample(frac=train_size, random_state=200).reset_index(drop=True)\n",
        "test_df = df.drop(train_df.index).reset_index(drop=True)\n",
        "\n",
        "print(\"FULL Dataset: {}\".format(df.shape))\n",
        "print(\"TRAIN Dataset: {}\".format(train_df.shape))\n",
        "print(\"TEST Dataset: {}\".format(test_df.shape))\n",
        "\n",
        "training_set = CustomDataset(train_df, tokenizer, MAX_LEN)\n",
        "testing_set = CustomDataset(test_df, tokenizer, MAX_LEN)\n",
        "\n",
        "# Each element in trainig_set or test_set is a dictionary consists of 4 tensors"
      ],
      "metadata": {
        "id": "i9qTcZ2L0rcc",
        "outputId": "f10ffab0-dc10-48d8-d810-97904b9d2280",
        "colab": {
          "base_uri": "https://localhost:8080/"
        }
      },
      "execution_count": 77,
      "outputs": [
        {
          "output_type": "stream",
          "name": "stdout",
          "text": [
            "FULL Dataset: (5152, 2)\n",
            "TRAIN Dataset: (4122, 2)\n",
            "TEST Dataset: (1030, 2)\n"
          ]
        }
      ]
    },
    {
      "cell_type": "code",
      "source": [
        "training_set[3]['ids'].size()"
      ],
      "metadata": {
        "colab": {
          "base_uri": "https://localhost:8080/"
        },
        "id": "qj3dLWwoJ3CT",
        "outputId": "3f213dc2-cb5f-4e49-ad05-8f285d88bc64"
      },
      "execution_count": 78,
      "outputs": [
        {
          "output_type": "stream",
          "name": "stderr",
          "text": [
            "/usr/local/lib/python3.10/dist-packages/transformers/tokenization_utils_base.py:2364: FutureWarning: The `pad_to_max_length` argument is deprecated and will be removed in a future version, use `padding=True` or `padding='longest'` to pad to the longest sequence in the batch, or use `padding='max_length'` to pad to a max length. In this case, you can give a specific length with `max_length` (e.g. `max_length=45`) or leave max_length to None to pad to the maximal input size of the model (e.g. 512 for Bert).\n",
            "  warnings.warn(\n"
          ]
        },
        {
          "output_type": "execute_result",
          "data": {
            "text/plain": [
              "torch.Size([256])"
            ]
          },
          "metadata": {},
          "execution_count": 78
        }
      ]
    },
    {
      "cell_type": "code",
      "source": [
        "# DataLoader\n",
        "\n",
        "train_params = {'batch_size': TRAIN_BATCH_SIZE,\n",
        "                'shuffle': True,\n",
        "                'num_workers': 8\n",
        "                }\n",
        "\n",
        "test_params = {'batch_size': VALID_BATCH_SIZE,\n",
        "                'num_workers': 8\n",
        "                }\n",
        "\n",
        "training_loader = DataLoader(training_set, **train_params)\n",
        "testing_loader = DataLoader(testing_set, **test_params)"
      ],
      "metadata": {
        "id": "XKgCRcPC1TGB"
      },
      "execution_count": 79,
      "outputs": []
    },
    {
      "cell_type": "code",
      "source": [
        "# Creating the network\n",
        "\n",
        "class BERTClass(torch.nn.Module):\n",
        "    def __init__(self, n_classes: int):\n",
        "        super(BERTClass, self).__init__()\n",
        "        self.bert = transformers.BertModel.from_pretrained('bert-base-uncased',return_dict=True)\n",
        "        self.dropout = torch.nn.Dropout(0.3)\n",
        "        self.classifier = torch.nn.Linear(self.bert.config.hidden_size, n_classes)\n",
        "    \n",
        "    def forward(self, ids, mask, token_type_ids):\n",
        "        bert_output= self.bert(input_ids = ids, attention_mask = mask, token_type_ids = token_type_ids)\n",
        "        dropout_output = self.dropout(bert_output.pooler_output)\n",
        "        output = self.classifier(dropout_output)\n",
        "        return output\n",
        "\n",
        "# linear layer with 15 dimensions due to 15 different topic categories\n",
        "model = BERTClass(n_classes=15)\n",
        "\n",
        "model.to(device)"
      ],
      "metadata": {
        "id": "dQmB0Jp21cLP",
        "outputId": "e9fcff3b-4e35-42fc-c120-55be8feefa5a",
        "colab": {
          "base_uri": "https://localhost:8080/"
        }
      },
      "execution_count": 80,
      "outputs": [
        {
          "output_type": "stream",
          "name": "stderr",
          "text": [
            "Some weights of the model checkpoint at bert-base-uncased were not used when initializing BertModel: ['cls.seq_relationship.weight', 'cls.predictions.transform.dense.weight', 'cls.predictions.transform.LayerNorm.weight', 'cls.predictions.bias', 'cls.predictions.transform.LayerNorm.bias', 'cls.predictions.decoder.weight', 'cls.predictions.transform.dense.bias', 'cls.seq_relationship.bias']\n",
            "- This IS expected if you are initializing BertModel from the checkpoint of a model trained on another task or with another architecture (e.g. initializing a BertForSequenceClassification model from a BertForPreTraining model).\n",
            "- This IS NOT expected if you are initializing BertModel from the checkpoint of a model that you expect to be exactly identical (initializing a BertForSequenceClassification model from a BertForSequenceClassification model).\n"
          ]
        },
        {
          "output_type": "execute_result",
          "data": {
            "text/plain": [
              "BERTClass(\n",
              "  (l1): BertModel(\n",
              "    (embeddings): BertEmbeddings(\n",
              "      (word_embeddings): Embedding(30522, 768, padding_idx=0)\n",
              "      (position_embeddings): Embedding(512, 768)\n",
              "      (token_type_embeddings): Embedding(2, 768)\n",
              "      (LayerNorm): LayerNorm((768,), eps=1e-12, elementwise_affine=True)\n",
              "      (dropout): Dropout(p=0.1, inplace=False)\n",
              "    )\n",
              "    (encoder): BertEncoder(\n",
              "      (layer): ModuleList(\n",
              "        (0-11): 12 x BertLayer(\n",
              "          (attention): BertAttention(\n",
              "            (self): BertSelfAttention(\n",
              "              (query): Linear(in_features=768, out_features=768, bias=True)\n",
              "              (key): Linear(in_features=768, out_features=768, bias=True)\n",
              "              (value): Linear(in_features=768, out_features=768, bias=True)\n",
              "              (dropout): Dropout(p=0.1, inplace=False)\n",
              "            )\n",
              "            (output): BertSelfOutput(\n",
              "              (dense): Linear(in_features=768, out_features=768, bias=True)\n",
              "              (LayerNorm): LayerNorm((768,), eps=1e-12, elementwise_affine=True)\n",
              "              (dropout): Dropout(p=0.1, inplace=False)\n",
              "            )\n",
              "          )\n",
              "          (intermediate): BertIntermediate(\n",
              "            (dense): Linear(in_features=768, out_features=3072, bias=True)\n",
              "            (intermediate_act_fn): GELUActivation()\n",
              "          )\n",
              "          (output): BertOutput(\n",
              "            (dense): Linear(in_features=3072, out_features=768, bias=True)\n",
              "            (LayerNorm): LayerNorm((768,), eps=1e-12, elementwise_affine=True)\n",
              "            (dropout): Dropout(p=0.1, inplace=False)\n",
              "          )\n",
              "        )\n",
              "      )\n",
              "    )\n",
              "    (pooler): BertPooler(\n",
              "      (dense): Linear(in_features=768, out_features=768, bias=True)\n",
              "      (activation): Tanh()\n",
              "    )\n",
              "  )\n",
              "  (l2): Dropout(p=0.3, inplace=False)\n",
              "  (l3): Linear(in_features=768, out_features=15, bias=True)\n",
              ")"
            ]
          },
          "metadata": {},
          "execution_count": 80
        }
      ]
    },
    {
      "cell_type": "code",
      "source": [
        "def loss_fn(outputs, targets):\n",
        "    return torch.nn.BCEWithLogitsLoss()(outputs, targets)"
      ],
      "metadata": {
        "id": "iw-01Nq_2K1v"
      },
      "execution_count": 81,
      "outputs": []
    },
    {
      "cell_type": "code",
      "source": [
        "optimizer = torch.optim.Adam(params =  model.parameters(), lr=LEARNING_RATE)"
      ],
      "metadata": {
        "id": "YQ_QqdEU2PZA"
      },
      "execution_count": 82,
      "outputs": []
    },
    {
      "cell_type": "code",
      "source": [
        "def train(epoch):\n",
        "    model.train()\n",
        "    for _,data in enumerate(training_loader, 0):\n",
        "        ids = data['ids'].to(device, dtype = torch.long)\n",
        "        mask = data['mask'].to(device, dtype = torch.long)\n",
        "        token_type_ids = data['token_type_ids'].to(device, dtype = torch.long)\n",
        "        targets = data['targets'].to(device, dtype = torch.float)\n",
        "\n",
        "        outputs = model(ids, mask, token_type_ids)\n",
        "\n",
        "        optimizer.zero_grad()\n",
        "        loss = loss_fn(outputs, targets)\n",
        "        if _%5000==0:\n",
        "            print(f'Epoch: {epoch}, Loss:  {loss.item()}')\n",
        "        \n",
        "        optimizer.zero_grad()\n",
        "        loss.backward()\n",
        "        optimizer.step()"
      ],
      "metadata": {
        "id": "OJK2dgQk2Trt"
      },
      "execution_count": 83,
      "outputs": []
    },
    {
      "cell_type": "code",
      "source": [
        "for epoch in range(EPOCHS):\n",
        "    train(epoch)"
      ],
      "metadata": {
        "id": "W1YuOC4b2x6c",
        "outputId": "bd8e5466-9fdf-45a1-c60b-6cbcfe9948e1",
        "colab": {
          "base_uri": "https://localhost:8080/"
        }
      },
      "execution_count": 84,
      "outputs": [
        {
          "output_type": "stream",
          "name": "stdout",
          "text": [
            "Epoch: 0, Loss:  0.7346986532211304\n",
            "Epoch: 1, Loss:  0.24991366267204285\n",
            "Epoch: 2, Loss:  0.1672009825706482\n"
          ]
        }
      ]
    }
  ]
}