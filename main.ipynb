{
  "nbformat": 4,
  "nbformat_minor": 0,
  "metadata": {
    "colab": {
      "provenance": [],
      "authorship_tag": "ABX9TyN2SpVSWxw9HqdPGOSx9GKW",
      "include_colab_link": true
    },
    "kernelspec": {
      "name": "python3",
      "display_name": "Python 3"
    },
    "language_info": {
      "name": "python"
    }
  },
  "cells": [
    {
      "cell_type": "markdown",
      "metadata": {
        "id": "view-in-github",
        "colab_type": "text"
      },
      "source": [
        "<a href=\"https://colab.research.google.com/github/maryamyazdi/transc/blob/times/main.ipynb\" target=\"_parent\"><img src=\"https://colab.research.google.com/assets/colab-badge.svg\" alt=\"Open In Colab\"/></a>"
      ]
    },
    {
      "cell_type": "code",
      "source": [
        "import json\n",
        "\n",
        "def find_times(src_file, first_words, last_words):\n",
        "  with open(src_file,'r') as file:\n",
        "    utterances = json.load(file).get('utterances')\n",
        "  file.close()\n",
        "\n",
        "  for utr in utterances:\n",
        "    utr_text = utr['text']\n",
        "    if first_words in utr_text:\n",
        "      start = utr_text.index(first_words)\n",
        "      try:\n",
        "        end = utr_text.index(last_words,start) + len(last_words)\n",
        "      except:\n",
        "        continue\n",
        "      body = utr_text[start:end]\n",
        "      print(body)\n",
        "      utr_words = utr['words']\n",
        "      start_flag = False\n",
        "\n",
        "      for index, word in enumerate(utr_words):\n",
        "        if not start_flag and word['text'] == 'Well' and utr_words[index+1]['text'] == 'knew.':\n",
        "          print(word['start'])\n",
        "          start_flag = True\n",
        "          continue\n",
        "        if word['text'] == 'phone.' and utr_words[index-1]['text'] == 'cell':\n",
        "          print(word['end'])\n",
        "\n",
        "find_times('18246.json',\"Well knew.\",\"his cell phone.\")"
      ],
      "metadata": {
        "colab": {
          "base_uri": "https://localhost:8080/"
        },
        "id": "7WMfd6N1oth8",
        "outputId": "1647f0e4-a65d-40ba-e2ae-bda735205fa3"
      },
      "execution_count": null,
      "outputs": [
        {
          "output_type": "stream",
          "name": "stdout",
          "text": [
            "Well knew. This morning police need your help finding the group behind a string of violent robberies in the Bronx. Investigators are looking for the five suspects you see in these surveillance images. And they say two of the incidents happened just minutes apart on August 18. The first near Olenville Avenue and Waits Place. That's where five people beat a man before stealing his iPhone. Five minutes later, just before midnight, the same group attacked a 47 year old man on Brocks Park East, stealing his backpack. And police say in a third robbery on August 29 at the same location, the suspects robbed a man at gunpoint, beating him and stealing his cell phone.\n",
            "464928\n",
            "504300\n"
          ]
        }
      ]
    }
  ]
}